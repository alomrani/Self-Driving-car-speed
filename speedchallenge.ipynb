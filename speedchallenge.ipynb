{
  "nbformat": 4,
  "nbformat_minor": 0,
  "metadata": {
    "colab": {
      "name": "speedchallenge.ipynb",
      "provenance": [],
      "collapsed_sections": [],
      "machine_shape": "hm",
      "authorship_tag": "ABX9TyM+1cFtZhH7Seh4xTm2YFlX",
      "include_colab_link": true
    },
    "kernelspec": {
      "name": "python3",
      "display_name": "Python 3"
    },
    "accelerator": "GPU"
  },
  "cells": [
    {
      "cell_type": "markdown",
      "metadata": {
        "id": "view-in-github",
        "colab_type": "text"
      },
      "source": [
        "<a href=\"https://colab.research.google.com/github/alomrani/Self-Driving-car-speed/blob/master/speedchallenge.ipynb\" target=\"_parent\"><img src=\"https://colab.research.google.com/assets/colab-badge.svg\" alt=\"Open In Colab\"/></a>"
      ]
    },
    {
      "cell_type": "code",
      "metadata": {
        "id": "zXD0ccliZ1j1",
        "colab_type": "code",
        "outputId": "28976c1d-7ee2-4397-8d54-2c135a5b5697",
        "colab": {
          "base_uri": "https://localhost:8080/",
          "height": 122
        }
      },
      "source": [
        "import torch\n",
        "import torch.nn as nn\n",
        "import torchvision\n",
        "import torchvision.transforms as transforms\n",
        "import numpy as np\n",
        "import collections\n",
        "import pickle\n",
        "from tqdm import tqdm\n",
        "import pylab\n",
        "use_colab = True\n",
        "if use_colab:\n",
        "  from google.colab import drive\n",
        "import tensorflow as tf\n",
        "TINY = 1e-30\n",
        "EPS = 1e-4\n",
        "nax = np.newaxis\n",
        "from sklearn.preprocessing import OneHotEncoder\n",
        "import matplotlib.pyplot as plt\n",
        "import torch.nn as nn\n",
        "import torch.nn.functional as F\n",
        "import torch.optim as optim\n",
        "import math\n",
        "import random\n",
        "import cv2\n",
        "import csv\n",
        "from skimage import color\n",
        "import pandas as pd\n",
        "import torch\n",
        "import torch.nn as nn\n",
        "from torch.nn.init import kaiming_normal_, constant_\n",
        "# from .util import conv, predict_flow, deconv, crop_like\n",
        "# Hyper-parameters \n",
        "input_size = 4096   # 784\n",
        "num_classes = 10\n",
        "num_epochs = 35\n",
        "batch_size = 100\n",
        "learning_rate = 0.1\n",
        "momentum = 0.8\n",
        "if use_colab:\n",
        "  drive_name = '/content/drive'\n",
        "  drive.mount(drive_name)\n",
        "  drive_413_A1_folder = 'comma_ai_speedchallenge'\n",
        "  drive_location = drive_name + '/My Drive/' + drive_413_A1_folder  # Change this to where your files are located\n",
        "else:\n",
        "  # set the drive_location variable to whereever the extracted contents are.\n",
        "  drive_location = ''"
      ],
      "execution_count": 0,
      "outputs": [
        {
          "output_type": "stream",
          "text": [
            "Go to this URL in a browser: https://accounts.google.com/o/oauth2/auth?client_id=947318989803-6bn6qk8qdgf4n4g3pfee6491hc0brc4i.apps.googleusercontent.com&redirect_uri=urn%3aietf%3awg%3aoauth%3a2.0%3aoob&response_type=code&scope=email%20https%3a%2f%2fwww.googleapis.com%2fauth%2fdocs.test%20https%3a%2f%2fwww.googleapis.com%2fauth%2fdrive%20https%3a%2f%2fwww.googleapis.com%2fauth%2fdrive.photos.readonly%20https%3a%2f%2fwww.googleapis.com%2fauth%2fpeopleapi.readonly\n",
            "\n",
            "Enter your authorization code:\n",
            "··········\n",
            "Mounted at /content/drive\n"
          ],
          "name": "stdout"
        }
      ]
    },
    {
      "cell_type": "code",
      "metadata": {
        "id": "LsK4YuDKyLwH",
        "colab_type": "code",
        "outputId": "e8b64eae-9a88-45bb-df1c-87e5f2c0d51f",
        "colab": {
          "base_uri": "https://localhost:8080/",
          "height": 71
        }
      },
      "source": [
        "import torch.nn as nn\n",
        "import torch.nn.functional as F\n",
        "\n",
        "try:\n",
        "    from spatial_correlation_sampler import spatial_correlation_sample\n",
        "except ImportError as e:\n",
        "    import warnings\n",
        "    with warnings.catch_warnings():\n",
        "        warnings.filterwarnings(\"default\", category=ImportWarning)\n",
        "        warnings.warn(\"failed to load custom correlation module\"\n",
        "                      \"which is needed for FlowNetC\", ImportWarning)\n",
        "\n",
        "\n",
        "def conv(batchNorm, in_planes, out_planes, kernel_size=3, stride=1):\n",
        "    if batchNorm:\n",
        "        return nn.Sequential(\n",
        "            nn.Conv2d(in_planes, out_planes, kernel_size=kernel_size, stride=stride, padding=(kernel_size-1)//2, bias=False),\n",
        "            nn.BatchNorm2d(out_planes),\n",
        "            nn.LeakyReLU(0.1,inplace=True)\n",
        "        )\n",
        "    else:\n",
        "        return nn.Sequential(\n",
        "            nn.Conv2d(in_planes, out_planes, kernel_size=kernel_size, stride=stride, padding=(kernel_size-1)//2, bias=True),\n",
        "            nn.LeakyReLU(0.1,inplace=True)\n",
        "        )\n",
        "\n",
        "\n",
        "def predict_flow(in_planes):\n",
        "    return nn.Conv2d(in_planes,2,kernel_size=3,stride=1,padding=1,bias=False)\n",
        "\n",
        "\n",
        "def deconv(in_planes, out_planes):\n",
        "    return nn.Sequential(\n",
        "        nn.ConvTranspose2d(in_planes, out_planes, kernel_size=4, stride=2, padding=1, bias=False),\n",
        "        nn.LeakyReLU(0.1,inplace=True)\n",
        "    )\n",
        "\n",
        "\n",
        "def correlate(input1, input2):\n",
        "    out_corr = spatial_correlation_sample(input1,\n",
        "                                          input2,\n",
        "                                          kernel_size=1,\n",
        "                                          patch_size=21,\n",
        "                                          stride=1,\n",
        "                                          padding=0,\n",
        "                                          dilation_patch=2)\n",
        "    # collate dimensions 1 and 2 in order to be treated as a\n",
        "    # regular 4D tensor\n",
        "    b, ph, pw, h, w = out_corr.size()\n",
        "    out_corr = out_corr.view(b, ph * pw, h, w)/input1.size(1)\n",
        "    return F.leaky_relu_(out_corr, 0.1)\n",
        "\n",
        "\n",
        "def crop_like(input, target):\n",
        "    if input.size()[2:] == target.size()[2:]:\n",
        "        return input\n",
        "    else:\n",
        "        return input[:, :, :target.size(2), :target.size(3)]\n"
      ],
      "execution_count": 0,
      "outputs": [
        {
          "output_type": "stream",
          "text": [
            "/usr/local/lib/python3.6/dist-packages/ipykernel_launcher.py:11: ImportWarning: failed to load custom correlation modulewhich is needed for FlowNetC\n",
            "  # This is added back by InteractiveShellApp.init_path()\n"
          ],
          "name": "stderr"
        }
      ]
    },
    {
      "cell_type": "code",
      "metadata": {
        "id": "qcEHw0p5CRJP",
        "colab_type": "code",
        "colab": {}
      },
      "source": [
        "import os\n",
        "import numpy as np\n",
        "import shutil\n",
        "import torch\n",
        "\n",
        "\n",
        "def save_checkpoint(state, is_best, save_path, filename='checkpoint.pth.tar'):\n",
        "    torch.save(state, os.path.join(save_path,filename))\n",
        "    if is_best:\n",
        "        shutil.copyfile(os.path.join(save_path,filename), os.path.join(save_path,'model_best.pth.tar'))\n",
        "\n",
        "\n",
        "class AverageMeter(object):\n",
        "    \"\"\"Computes and stores the average and current value\"\"\"\n",
        "\n",
        "    def __init__(self):\n",
        "        self.reset()\n",
        "\n",
        "    def reset(self):\n",
        "        self.val = 0\n",
        "        self.avg = 0\n",
        "        self.sum = 0\n",
        "        self.count = 0\n",
        "\n",
        "    def update(self, val, n=1):\n",
        "        self.val = val\n",
        "        self.sum += val * n\n",
        "        self.count += n\n",
        "        self.avg = self.sum / self.count\n",
        "\n",
        "    def __repr__(self):\n",
        "        return '{:.3f} ({:.3f})'.format(self.val, self.avg)\n",
        "\n",
        "\n",
        "def flow2rgb(flow_map, max_value):\n",
        "    flow_map_np = flow_map.detach().cpu().numpy()\n",
        "    _, h, w = flow_map_np.shape\n",
        "    flow_map_np[:,(flow_map_np[0] == 0) & (flow_map_np[1] == 0)] = float('nan')\n",
        "    rgb_map = np.ones((3,h,w)).astype(np.float32)\n",
        "    if max_value is not None:\n",
        "        normalized_flow_map = flow_map_np / max_value\n",
        "    else:\n",
        "        normalized_flow_map = flow_map_np / (np.abs(flow_map_np).max())\n",
        "    rgb_map[0] += normalized_flow_map[0]\n",
        "    rgb_map[1] -= 0.5*(normalized_flow_map[0] + normalized_flow_map[1])\n",
        "    rgb_map[2] += normalized_flow_map[1]\n",
        "    return rgb_map.clip(0,1)"
      ],
      "execution_count": 0,
      "outputs": []
    },
    {
      "cell_type": "code",
      "metadata": {
        "id": "UdEwKxX2Z3yN",
        "colab_type": "code",
        "colab": {}
      },
      "source": [
        "def exctract_frames():\n",
        "  cap = cv2.VideoCapture(\"speedchallenge/data/train.mp4\")\n",
        "\n",
        "  i = 0\n",
        "  # with open(drive_location + \"/speedchallenge/data/dataX.csv\", \"a\") as f:\n",
        "    # writer = csv.writer(f)\n",
        "  while(cap.isOpened()):\n",
        "      ret, frame = cap.read()\n",
        "      if ret == False:\n",
        "          break\n",
        "      frame = cv2.cvtColor(frame, cv2.COLOR_BGR2GRAY)\n",
        "      # print(1)\n",
        "      # writer.writerow(frame.flatten())\n",
        "      cv2.imwrite('speedchallenge/data/trainFrames/'+str(i)+'.jpg',frame)\n",
        "      i+=1\n",
        "\n",
        "  cap.release()\n",
        "  cv2.destroyAllWindows()"
      ],
      "execution_count": 0,
      "outputs": []
    },
    {
      "cell_type": "code",
      "metadata": {
        "id": "suiByj48rBGm",
        "colab_type": "code",
        "colab": {}
      },
      "source": [
        "train_speed = []\n",
        "f = open(\"speedchallenge/data/train.txt\", \"r\")\n",
        "for s in f:\n",
        "  train_speed.append(float(s.strip()))"
      ],
      "execution_count": 0,
      "outputs": []
    },
    {
      "cell_type": "code",
      "metadata": {
        "id": "YmB3_MebwlZ_",
        "colab_type": "code",
        "colab": {}
      },
      "source": [
        "def dataset_constructor(train_speed):\n",
        "    meta_dict = {}\n",
        "    for idx, speed in enumerate(train_speed):\n",
        "        img_path = 'speedchallenge/data/trainFrames/'+str(idx)+'.jpg'\n",
        "        meta_dict[idx] = [img_path, idx, speed]\n",
        "    meta_df = pd.DataFrame.from_dict(meta_dict, orient='index')\n",
        "    meta_df.columns = ['image_path', 'image_index', 'speed']\n",
        "    meta_df.to_csv('speedchallenge/data/train_meta.csv', index=False)"
      ],
      "execution_count": 0,
      "outputs": []
    },
    {
      "cell_type": "code",
      "metadata": {
        "id": "MWdXFi1hpJo6",
        "colab_type": "code",
        "colab": {}
      },
      "source": [
        "# def pre_proccess(frame):\n",
        "#   frame = frame[:,80:370,:]\n",
        "#   frame = cv2.resize(frame, (220, 66), interpolation = cv2.INTER_AREA)\n",
        "#   return frame"
      ],
      "execution_count": 0,
      "outputs": []
    },
    {
      "cell_type": "code",
      "metadata": {
        "id": "PpsI-nzSZ6j4",
        "colab_type": "code",
        "colab": {}
      },
      "source": [
        "dataset_constructor(train_speed)"
      ],
      "execution_count": 0,
      "outputs": []
    },
    {
      "cell_type": "code",
      "metadata": {
        "id": "URUPIg20jIwE",
        "colab_type": "code",
        "colab": {}
      },
      "source": [
        ""
      ],
      "execution_count": 0,
      "outputs": []
    },
    {
      "cell_type": "code",
      "metadata": {
        "id": "mnVH3evArdo7",
        "colab_type": "code",
        "outputId": "b30b33e5-7e14-4e2e-c6c8-3d42b975f949",
        "colab": {
          "base_uri": "https://localhost:8080/",
          "height": 204
        }
      },
      "source": [
        "train_meta = pd.read_csv('speedchallenge/data/train_meta.csv')\n",
        "train_meta.head()"
      ],
      "execution_count": 0,
      "outputs": [
        {
          "output_type": "execute_result",
          "data": {
            "text/html": [
              "<div>\n",
              "<style scoped>\n",
              "    .dataframe tbody tr th:only-of-type {\n",
              "        vertical-align: middle;\n",
              "    }\n",
              "\n",
              "    .dataframe tbody tr th {\n",
              "        vertical-align: top;\n",
              "    }\n",
              "\n",
              "    .dataframe thead th {\n",
              "        text-align: right;\n",
              "    }\n",
              "</style>\n",
              "<table border=\"1\" class=\"dataframe\">\n",
              "  <thead>\n",
              "    <tr style=\"text-align: right;\">\n",
              "      <th></th>\n",
              "      <th>image_path</th>\n",
              "      <th>image_index</th>\n",
              "      <th>speed</th>\n",
              "    </tr>\n",
              "  </thead>\n",
              "  <tbody>\n",
              "    <tr>\n",
              "      <th>0</th>\n",
              "      <td>speedchallenge/data/trainFrames/0.jpg</td>\n",
              "      <td>0</td>\n",
              "      <td>28.105569</td>\n",
              "    </tr>\n",
              "    <tr>\n",
              "      <th>1</th>\n",
              "      <td>speedchallenge/data/trainFrames/1.jpg</td>\n",
              "      <td>1</td>\n",
              "      <td>28.105569</td>\n",
              "    </tr>\n",
              "    <tr>\n",
              "      <th>2</th>\n",
              "      <td>speedchallenge/data/trainFrames/2.jpg</td>\n",
              "      <td>2</td>\n",
              "      <td>28.106527</td>\n",
              "    </tr>\n",
              "    <tr>\n",
              "      <th>3</th>\n",
              "      <td>speedchallenge/data/trainFrames/3.jpg</td>\n",
              "      <td>3</td>\n",
              "      <td>28.130404</td>\n",
              "    </tr>\n",
              "    <tr>\n",
              "      <th>4</th>\n",
              "      <td>speedchallenge/data/trainFrames/4.jpg</td>\n",
              "      <td>4</td>\n",
              "      <td>28.109243</td>\n",
              "    </tr>\n",
              "  </tbody>\n",
              "</table>\n",
              "</div>"
            ],
            "text/plain": [
              "                              image_path  image_index      speed\n",
              "0  speedchallenge/data/trainFrames/0.jpg            0  28.105569\n",
              "1  speedchallenge/data/trainFrames/1.jpg            1  28.105569\n",
              "2  speedchallenge/data/trainFrames/2.jpg            2  28.106527\n",
              "3  speedchallenge/data/trainFrames/3.jpg            3  28.130404\n",
              "4  speedchallenge/data/trainFrames/4.jpg            4  28.109243"
            ]
          },
          "metadata": {
            "tags": []
          },
          "execution_count": 36
        }
      ]
    },
    {
      "cell_type": "code",
      "metadata": {
        "id": "yEPLFdEtzU_i",
        "colab_type": "code",
        "colab": {}
      },
      "source": [
        "def train_valid_split(dframe):\n",
        "    train_data = pd.DataFrame()\n",
        "    valid_data = pd.DataFrame()\n",
        "    for i in range(len(dframe) - 1):\n",
        "        idx1 = np.random.randint(len(dframe) - 1)\n",
        "        idx2 = idx1 + 1\n",
        "         \n",
        "        row1 = dframe.iloc[[idx1]].reset_index()\n",
        "        row2 = dframe.iloc[[idx2]].reset_index()\n",
        "        \n",
        "        randInt = np.random.randint(9)\n",
        "        if 0 <= randInt <= 1:\n",
        "            valid_frames = [valid_data, row1, row2]\n",
        "            valid_data = pd.concat(valid_frames, axis = 0, join = 'outer', ignore_index=False)\n",
        "        if randInt >= 2:\n",
        "            train_frames = [train_data, row1, row2]\n",
        "            train_data = pd.concat(train_frames, axis = 0, join = 'outer', ignore_index=False)\n",
        "    return train_data, valid_data"
      ],
      "execution_count": 0,
      "outputs": []
    },
    {
      "cell_type": "code",
      "metadata": {
        "id": "OTP_oSDh6pKN",
        "colab_type": "code",
        "colab": {}
      },
      "source": [
        "train_data, val_data = train_valid_split(train_meta)"
      ],
      "execution_count": 0,
      "outputs": []
    },
    {
      "cell_type": "code",
      "metadata": {
        "id": "P-A9QM97jD7H",
        "colab_type": "code",
        "colab": {}
      },
      "source": [
        "import torchvision.transforms as transforms\n",
        "from imageio import imread, imwrite\n",
        "class ArrayToTensor(object):\n",
        "    \"\"\"Converts a numpy.ndarray (H x W x C) to a torch.FloatTensor of shape (C x H x W).\"\"\"\n",
        "\n",
        "    def __call__(self, array):\n",
        "        assert(isinstance(array, np.ndarray))\n",
        "        array = np.transpose(array, (2, 0, 1))\n",
        "        # handle numpy array\n",
        "        tensor = torch.from_numpy(array)\n",
        "        # put it from HWC to CHW format\n",
        "        return tensor.float()\n",
        "\n",
        "input_transform = transforms.Compose([\n",
        "        ArrayToTensor(),\n",
        "        transforms.Normalize(mean=[0,0,0], std=[255,255,255]),\n",
        "        transforms.Normalize(mean=[0.411,0.432,0.45], std=[1,1,1])\n",
        "    ])"
      ],
      "execution_count": 0,
      "outputs": []
    },
    {
      "cell_type": "code",
      "metadata": {
        "id": "CAMK-o7y6zKk",
        "colab_type": "code",
        "colab": {}
      },
      "source": [
        "def preprocess_image_from_path(image_path, speed):\n",
        "    img = input_transform(cv2.imread(image_path))\n",
        "    # img = cv2.cvtColor(img, cv2.COLOR_BGR2RGB)\n",
        "    img = img[:,80:370,:]\n",
        "    return img, speed"
      ],
      "execution_count": 0,
      "outputs": []
    },
    {
      "cell_type": "code",
      "metadata": {
        "id": "7aWwQETMw4Sy",
        "colab_type": "code",
        "colab": {}
      },
      "source": [
        "from sklearn.utils import shuffle\n",
        "def generate_training_data(data, model,batch_size = 32):\n",
        "    image_batch = np.zeros((batch_size, 66, 220, 3)) # nvidia input params\n",
        "    label_batch = np.zeros((batch_size))\n",
        "    while True:\n",
        "        for i in range(batch_size):\n",
        "            # generate a random index with a uniform random distribution from 1 to len - 1\n",
        "            idx = np.random.randint(1, len(data) - 1)\n",
        "            \n",
        "            # Generate a random bright factor to apply to both images\n",
        "            bright_factor = 0.2 + np.random.uniform()\n",
        "            \n",
        "            row_now = data.iloc[[idx]].reset_index()\n",
        "            row_prev = data.iloc[[idx - 1]].reset_index()\n",
        "            row_next = data.iloc[[idx + 1]].reset_index()\n",
        "            \n",
        "            # Find the 3 respective times to determine frame order (current -> next)\n",
        "            \n",
        "            time_now = row_now['image_index'].values[0]\n",
        "            time_prev = row_prev['image_index'].values[0]\n",
        "            time_next = row_next['image_index'].values[0]\n",
        "            \n",
        "            if abs(time_now - time_prev) == 1 and time_now > time_prev:\n",
        "                row1 = row_prev\n",
        "                row2 = row_now\n",
        "                \n",
        "            elif abs(time_next - time_now) == 1 and time_next > time_now:\n",
        "                row1 = row_now\n",
        "                row2 = row_next\n",
        "            else:\n",
        "                print('Error generating row')            \n",
        "            \n",
        "            x1, y1 = preprocess_image_from_path(row1['image_path'].values[0],\n",
        "                                                row1['speed'].values[0]\n",
        "                                                )\n",
        "            \n",
        "            # preprocess another image\n",
        "            x2, y2 = preprocess_image_from_path(row2['image_path'].values[0], \n",
        "                                                row2['speed'].values[0]\n",
        "                                                )\n",
        "           \n",
        "            a = torch.cat([x1,x2]).unsqueeze(0)\n",
        "            img_diff = model(a)\n",
        "            # img_diff = img_diff.reshape(1, img_diff.shape[0], img_diff.shape[1], img_diff.shape[2])\n",
        "            img_diff = F.interpolate(img_diff, size=[66, 220], mode='nearest').squeeze(0)\n",
        "            rgb_flow = flow2rgb(20 * img_diff, max_value=10)\n",
        "            opticalflow = (rgb_flow * 255).astype(np.uint8).transpose(1,2,0)\n",
        "            # compute optical flow send in images as RGB\n",
        "            # plt.imshow(opticalflow)\n",
        "            # plt.show()\n",
        "            # calculate mean speed\n",
        "            y = np.mean([y1, y2])\n",
        "            \n",
        "            image_batch[i] = opticalflow\n",
        "            label_batch[i] = y\n",
        "        \n",
        "        #print('image_batch', image_batch.shape, ' label_batch', label_batch)\n",
        "        # Shuffle the pairs before they get fed into the network\n",
        "        yield shuffle(image_batch, label_batch)"
      ],
      "execution_count": 0,
      "outputs": []
    },
    {
      "cell_type": "code",
      "metadata": {
        "id": "QtkSEDx4xheR",
        "colab_type": "code",
        "colab": {}
      },
      "source": [
        "def generate_validation_data(data, model):\n",
        "    while True:\n",
        "        for idx in range(1, len(data) - 1): # start from the second row because we may try to grab it and need its prev to be in bounds\n",
        "            row_now = data.iloc[[idx]].reset_index()\n",
        "            row_prev = data.iloc[[idx - 1]].reset_index()\n",
        "            row_next = data.iloc[[idx + 1]].reset_index()\n",
        "            \n",
        "            # Find the 3 respective times to determine frame order (current -> next)\n",
        "            \n",
        "            time_now = row_now['image_index'].values[0]\n",
        "            time_prev = row_prev['image_index'].values[0]\n",
        "            time_next = row_next['image_index'].values[0]\n",
        "            \n",
        "            if abs(time_now - time_prev) == 1 and time_now > time_prev:\n",
        "                row1 = row_prev\n",
        "                row2 = row_now\n",
        "            \n",
        "            elif abs(time_next - time_now) == 1 and time_next > time_now:\n",
        "                row1 = row_now\n",
        "                row2 = row_next\n",
        "            else:\n",
        "                print('Error generating row')        \n",
        "            \n",
        "            x1, y1 = preprocess_image_from_path(row1['image_path'].values[0], row1['speed'].values[0])\n",
        "            x2, y2 = preprocess_image_from_path(row2['image_path'].values[0], row2['speed'].values[0])\n",
        "            a = torch.cat([x1,x2]).unsqueeze(0)\n",
        "            img_diff = model(a)\n",
        "            # img_diff = img_diff.reshape(1, img_diff.shape[0], img_diff.shape[1], img_diff.shape[2])\n",
        "            img_diff = F.interpolate(img_diff, size=[66, 220], mode='nearest').squeeze(0)\n",
        "            rgb_flow = flow2rgb(20 * img_diff, max_value=10)\n",
        "            opticalflow = torch.tensor((rgb_flow * 255).astype(np.uint8)).unsqueeze(0).view(1, 66, 220, 3)\n",
        "\n",
        "            y = np.mean([y1, y2])\n",
        "            \n",
        "            speed = np.array([[y]])\n",
        "            \n",
        "            # print('img_diff', opticalflow.shape, ' speed', speed)\n",
        "            yield opticalflow, speed"
      ],
      "execution_count": 0,
      "outputs": []
    },
    {
      "cell_type": "code",
      "metadata": {
        "id": "QIJxEAsMxvkx",
        "colab_type": "code",
        "colab": {}
      },
      "source": [
        "model_weights = torch.load(drive_location+\"/speedchallenge/data/flownets_bn_EPE2.459.pth.tar\")"
      ],
      "execution_count": 0,
      "outputs": []
    },
    {
      "cell_type": "code",
      "metadata": {
        "id": "S0LT78OK4cjS",
        "colab_type": "code",
        "colab": {}
      },
      "source": [
        "import torch\n",
        "import torch.nn as nn\n",
        "from torch.nn.init import kaiming_normal_, constant_\n",
        "# from .util import conv, predict_flow, deconv, crop_like\n",
        "\n",
        "__all__ = [\n",
        "    'flownets', 'flownets_bn'\n",
        "]\n",
        "\n",
        "\n",
        "class FlowNetS(nn.Module):\n",
        "    expansion = 1\n",
        "\n",
        "    def __init__(self,batchNorm=True):\n",
        "        super(FlowNetS,self).__init__()\n",
        "\n",
        "        self.batchNorm = batchNorm\n",
        "        self.conv1   = conv(self.batchNorm,   6,   64, kernel_size=7, stride=2)\n",
        "        self.conv2   = conv(self.batchNorm,  64,  128, kernel_size=5, stride=2)\n",
        "        self.conv3   = conv(self.batchNorm, 128,  256, kernel_size=5, stride=2)\n",
        "        self.conv3_1 = conv(self.batchNorm, 256,  256)\n",
        "        self.conv4   = conv(self.batchNorm, 256,  512, stride=2)\n",
        "        self.conv4_1 = conv(self.batchNorm, 512,  512)\n",
        "        self.conv5   = conv(self.batchNorm, 512,  512, stride=2)\n",
        "        self.conv5_1 = conv(self.batchNorm, 512,  512)\n",
        "        self.conv6   = conv(self.batchNorm, 512, 1024, stride=2)\n",
        "        self.conv6_1 = conv(self.batchNorm,1024, 1024)\n",
        "\n",
        "        self.deconv5 = deconv(1024,512)\n",
        "        self.deconv4 = deconv(1026,256)\n",
        "        self.deconv3 = deconv(770,128)\n",
        "        self.deconv2 = deconv(386,64)\n",
        "\n",
        "        self.predict_flow6 = predict_flow(1024)\n",
        "        self.predict_flow5 = predict_flow(1026)\n",
        "        self.predict_flow4 = predict_flow(770)\n",
        "        self.predict_flow3 = predict_flow(386)\n",
        "        self.predict_flow2 = predict_flow(194)\n",
        "\n",
        "        self.upsampled_flow6_to_5 = nn.ConvTranspose2d(2, 2, 4, 2, 1, bias=False)\n",
        "        self.upsampled_flow5_to_4 = nn.ConvTranspose2d(2, 2, 4, 2, 1, bias=False)\n",
        "        self.upsampled_flow4_to_3 = nn.ConvTranspose2d(2, 2, 4, 2, 1, bias=False)\n",
        "        self.upsampled_flow3_to_2 = nn.ConvTranspose2d(2, 2, 4, 2, 1, bias=False)\n",
        "\n",
        "        for m in self.modules():\n",
        "            if isinstance(m, nn.Conv2d) or isinstance(m, nn.ConvTranspose2d):\n",
        "                kaiming_normal_(m.weight, 0.1)\n",
        "                if m.bias is not None:\n",
        "                    constant_(m.bias, 0)\n",
        "            elif isinstance(m, nn.BatchNorm2d):\n",
        "                constant_(m.weight, 1)\n",
        "                constant_(m.bias, 0)\n",
        "\n",
        "    def forward(self, x):\n",
        "        out_conv2 = self.conv2(self.conv1(x))\n",
        "        out_conv3 = self.conv3_1(self.conv3(out_conv2))\n",
        "        out_conv4 = self.conv4_1(self.conv4(out_conv3))\n",
        "        out_conv5 = self.conv5_1(self.conv5(out_conv4))\n",
        "        out_conv6 = self.conv6_1(self.conv6(out_conv5))\n",
        "\n",
        "        flow6       = self.predict_flow6(out_conv6)\n",
        "        flow6_up    = crop_like(self.upsampled_flow6_to_5(flow6), out_conv5)\n",
        "        out_deconv5 = crop_like(self.deconv5(out_conv6), out_conv5)\n",
        "\n",
        "        concat5 = torch.cat((out_conv5,out_deconv5,flow6_up),1)\n",
        "        flow5       = self.predict_flow5(concat5)\n",
        "        flow5_up    = crop_like(self.upsampled_flow5_to_4(flow5), out_conv4)\n",
        "        out_deconv4 = crop_like(self.deconv4(concat5), out_conv4)\n",
        "\n",
        "        concat4 = torch.cat((out_conv4,out_deconv4,flow5_up),1)\n",
        "        flow4       = self.predict_flow4(concat4)\n",
        "        flow4_up    = crop_like(self.upsampled_flow4_to_3(flow4), out_conv3)\n",
        "        out_deconv3 = crop_like(self.deconv3(concat4), out_conv3)\n",
        "\n",
        "        concat3 = torch.cat((out_conv3,out_deconv3,flow4_up),1)\n",
        "        flow3       = self.predict_flow3(concat3)\n",
        "        flow3_up    = crop_like(self.upsampled_flow3_to_2(flow3), out_conv2)\n",
        "        out_deconv2 = crop_like(self.deconv2(concat3), out_conv2)\n",
        "\n",
        "        concat2 = torch.cat((out_conv2,out_deconv2,flow3_up),1)\n",
        "        flow2 = self.predict_flow2(concat2)\n",
        "\n",
        "        if self.training:\n",
        "            return flow2,flow3,flow4,flow5,flow6\n",
        "        else:\n",
        "            return flow2\n",
        "\n",
        "    def weight_parameters(self):\n",
        "        return [param for name, param in self.named_parameters() if 'weight' in name]\n",
        "\n",
        "    def bias_parameters(self):\n",
        "        return [param for name, param in self.named_parameters() if 'bias' in name]\n",
        "\n",
        "\n",
        "def flownets(data=None):\n",
        "    \"\"\"FlowNetS model architecture from the\n",
        "    \"Learning Optical Flow with Convolutional Networks\" paper (https://arxiv.org/abs/1504.06852)\n",
        "    Args:\n",
        "        data : pretrained weights of the network. will create a new one if not set\n",
        "    \"\"\"\n",
        "    model = FlowNetS(batchNorm=False)\n",
        "    if data is not None:\n",
        "        model.load_state_dict(data['state_dict'])\n",
        "    return model\n",
        "\n",
        "\n",
        "def flownets_bn(data=None):\n",
        "    \"\"\"FlowNetS model architecture from the\n",
        "    \"Learning Optical Flow with Convolutional Networks\" paper (https://arxiv.org/abs/1504.06852)\n",
        "    Args:\n",
        "        data : pretrained weights of the network. will create a new one if not set\n",
        "    \"\"\"\n",
        "    model = FlowNetS(batchNorm=True)\n",
        "    if data is not None:\n",
        "        model.load_state_dict(data['state_dict'])\n",
        "    return model"
      ],
      "execution_count": 0,
      "outputs": []
    },
    {
      "cell_type": "code",
      "metadata": {
        "id": "lG7o8wqF0Z1E",
        "colab_type": "code",
        "colab": {}
      },
      "source": [
        "model = flownets_bn(model_weights).eval()"
      ],
      "execution_count": 0,
      "outputs": []
    },
    {
      "cell_type": "code",
      "metadata": {
        "id": "sCgWztw30gxq",
        "colab_type": "code",
        "outputId": "9686f40a-b612-4cdf-82d9-4c4fd2a156cd",
        "colab": {
          "base_uri": "https://localhost:8080/",
          "height": 169
        }
      },
      "source": [
        "framelocation = \"speedchallenge/data/trainFrames/503.jpg\"\n",
        "testframe = input_transform(cv2.imread(framelocation))\n",
        "testframe = testframe[:,80:370,:]\n",
        "framelocation1 = 'speedchallenge/data/trainFrames/504.jpg'\n",
        "testframe1 = input_transform(cv2.imread(framelocation1))\n",
        "testframe1 = testframe1[:,80:370,:]\n",
        "a = torch.cat([testframe,testframe1]).unsqueeze(0)\n",
        "model = model.eval()\n",
        "# a = a.view(a.shape[-1],a.shape[0],a.shape[1]).unsqueeze(0)\n",
        "opticalflow = model(a)\n",
        "output = F.interpolate(opticalflow, size=[66, 220], mode='nearest').squeeze(0)\n",
        "print(output.shape)\n",
        "rgb_flow = flow2rgb(20 * output, max_value=10)\n",
        "to_save = (rgb_flow * 255).astype(np.uint8).transpose(1,2,0)\n",
        "plt.imshow(to_save)\n",
        "plt.show()"
      ],
      "execution_count": 0,
      "outputs": [
        {
          "output_type": "stream",
          "text": [
            "torch.Size([2, 66, 220])\n"
          ],
          "name": "stdout"
        },
        {
          "output_type": "display_data",
          "data": {
            "image/png": "[encoded data removed]",
            "text/plain": [
              "<Figure size 432x288 with 1 Axes>"
            ]
          },
          "metadata": {
            "tags": [],
            "needs_background": "light"
          }
        }
      ]
    },
    {
      "cell_type": "code",
      "metadata": {
        "id": "HI_XXZQCGLSX",
        "colab_type": "code",
        "colab": {}
      },
      "source": [
        "from keras.models import Sequential\n",
        "N_img_height = 66\n",
        "N_img_width = 220\n",
        "N_img_channels = 3\n",
        "\n",
        "def nvidia_model():\n",
        "    inputShape = (N_img_height, N_img_width, N_img_channels)\n",
        "\n",
        "    model = Sequential()\n",
        "    # normalization    \n",
        "    # perform custom normalization before lambda layer in network\n",
        "    model.add(Lambda(lambda x: x/ 127.5 - 1, input_shape = inputShape))\n",
        "\n",
        "    model.add(Convolution2D(24, (5, 5), \n",
        "                            strides=(2,2), \n",
        "                            padding = 'valid',\n",
        "                            kernel_initializer = 'he_normal',\n",
        "                            name = 'conv1'))\n",
        "    \n",
        "    \n",
        "    model.add(ELU())    \n",
        "    model.add(Convolution2D(36, (5, 5), \n",
        "                            strides=(2,2), \n",
        "                            padding = 'valid',\n",
        "                            kernel_initializer = 'he_normal',\n",
        "                            name = 'conv2'))\n",
        "    \n",
        "    model.add(ELU())    \n",
        "    model.add(Convolution2D(48, (5, 5), \n",
        "                            strides=(2,2), \n",
        "                            padding = 'valid',\n",
        "                            kernel_initializer = 'he_normal',\n",
        "                            name = 'conv3'))\n",
        "    model.add(ELU())\n",
        "    model.add(Dropout(0.5))\n",
        "    model.add(Convolution2D(64, (3, 3), \n",
        "                            strides = (1,1), \n",
        "                            padding = 'valid',\n",
        "                            kernel_initializer = 'he_normal',\n",
        "                            name = 'conv4'))\n",
        "    \n",
        "    model.add(ELU())              \n",
        "    model.add(Convolution2D(64, (3, 3), \n",
        "                            strides= (1,1), \n",
        "                            padding = 'valid',\n",
        "                            kernel_initializer = 'he_normal',\n",
        "                            name = 'conv5'))\n",
        "              \n",
        "              \n",
        "    model.add(Flatten(name = 'flatten'))\n",
        "    model.add(ELU())\n",
        "    model.add(Dense(100, kernel_initializer = 'he_normal', name = 'fc1'))\n",
        "    model.add(ELU())\n",
        "    model.add(Dense(50, kernel_initializer = 'he_normal', name = 'fc2'))\n",
        "    model.add(ELU())\n",
        "    model.add(Dense(10, kernel_initializer = 'he_normal', name = 'fc3'))\n",
        "    model.add(ELU())\n",
        "    \n",
        "    # do not put activation at the end because we want to exact output, not a class identifier\n",
        "    model.add(Dense(1, name = 'output', kernel_initializer = 'he_normal'))\n",
        "    \n",
        "    adam = Adam(lr=1e-4, beta_1=0.9, beta_2=0.999, epsilon=1e-08, decay=0)\n",
        "    model.compile(optimizer = adam, loss = 'mse')\n",
        "\n",
        "    return model"
      ],
      "execution_count": 0,
      "outputs": []
    },
    {
      "cell_type": "code",
      "metadata": {
        "id": "0rGxcJ99GMyV",
        "colab_type": "code",
        "colab": {}
      },
      "source": [
        "from keras.models import Sequential\n",
        "from keras.callbacks import EarlyStopping, ModelCheckpoint, TensorBoard\n",
        "from keras.layers.convolutional import Convolution2D\n",
        "from keras.layers.pooling import MaxPooling2D\n",
        "from keras.layers.core import Activation, Dropout, Flatten, Dense, Lambda\n",
        "from keras.layers import ELU\n",
        "from keras.optimizers import Adam\n",
        "val_size = len(val_data.index)\n",
        "valid_generator = generate_validation_data(val_data, model)\n",
        "earlyStopping = EarlyStopping(monitor='val_loss', \n",
        "                              patience=1, \n",
        "                              verbose=1, \n",
        "                              min_delta = 0.23,\n",
        "                              mode='min',)\n",
        "\n",
        "modelCheckpoint = ModelCheckpoint(drive_location+ \"/speedchallenge/weights.h5\", \n",
        "                                  monitor = 'val_loss', \n",
        "                                  save_best_only = True, \n",
        "                                  mode = 'min', \n",
        "                                  verbose = 1,\n",
        "                                 save_weights_only = True)\n",
        "\n",
        "# tensorboard = TensorBoard(log_dir=tensorboard_loc, histogram_freq=0,\n",
        "#                             write_graph=True, write_images=True)\n",
        "\n",
        "callbacks_list = [earlyStopping, modelCheckpoint]"
      ],
      "execution_count": 0,
      "outputs": []
    },
    {
      "cell_type": "code",
      "metadata": {
        "id": "zSajsmzjdg0O",
        "colab_type": "code",
        "colab": {}
      },
      "source": [
        "model1 = nvidia_model()"
      ],
      "execution_count": 0,
      "outputs": []
    },
    {
      "cell_type": "code",
      "metadata": {
        "id": "FRRTisTEdjXf",
        "colab_type": "code",
        "outputId": "8a37e997-718d-4268-c8df-81f85adb8c48",
        "colab": {
          "base_uri": "https://localhost:8080/",
          "height": 374
        }
      },
      "source": [
        "num_epochs = 25 #100 #90 \n",
        "steps_per_epoch = 2\n",
        "train_size = len(train_data.index)\n",
        "train_generator = generate_training_data(train_data, model, 16)\n",
        "history = model1.fit_generator(\n",
        "        train_generator, \n",
        "        steps_per_epoch = steps_per_epoch, \n",
        "        epochs = num_epochs,\n",
        "        callbacks = callbacks_list,\n",
        "        verbose = 1,\n",
        "        validation_data = valid_generator,\n",
        "        validation_steps = val_size)"
      ],
      "execution_count": 0,
      "outputs": [
        {
          "output_type": "stream",
          "text": [
            "Epoch 1/25\n",
            "1/2 [==============>...............] - ETA: 8s - loss: 6.2143"
          ],
          "name": "stdout"
        },
        {
          "output_type": "error",
          "ename": "KeyboardInterrupt",
          "evalue": "ignored",
          "traceback": [
            "\u001b[0;31m---------------------------------------------------------------------------\u001b[0m",
            "\u001b[0;31mKeyboardInterrupt\u001b[0m                         Traceback (most recent call last)",
            "\u001b[0;32m<ipython-input-87-501fea9a995b>\u001b[0m in \u001b[0;36m<module>\u001b[0;34m()\u001b[0m\n\u001b[1;32m     10\u001b[0m         \u001b[0mverbose\u001b[0m \u001b[0;34m=\u001b[0m \u001b[0;36m1\u001b[0m\u001b[0;34m,\u001b[0m\u001b[0;34m\u001b[0m\u001b[0;34m\u001b[0m\u001b[0m\n\u001b[1;32m     11\u001b[0m         \u001b[0mvalidation_data\u001b[0m \u001b[0;34m=\u001b[0m \u001b[0mvalid_generator\u001b[0m\u001b[0;34m,\u001b[0m\u001b[0;34m\u001b[0m\u001b[0;34m\u001b[0m\u001b[0m\n\u001b[0;32m---> 12\u001b[0;31m         validation_steps = val_size)\n\u001b[0m",
            "\u001b[0;32m/usr/local/lib/python3.6/dist-packages/keras/legacy/interfaces.py\u001b[0m in \u001b[0;36mwrapper\u001b[0;34m(*args, **kwargs)\u001b[0m\n\u001b[1;32m     89\u001b[0m                 warnings.warn('Update your `' + object_name + '` call to the ' +\n\u001b[1;32m     90\u001b[0m                               'Keras 2 API: ' + signature, stacklevel=2)\n\u001b[0;32m---> 91\u001b[0;31m             \u001b[0;32mreturn\u001b[0m \u001b[0mfunc\u001b[0m\u001b[0;34m(\u001b[0m\u001b[0;34m*\u001b[0m\u001b[0margs\u001b[0m\u001b[0;34m,\u001b[0m \u001b[0;34m**\u001b[0m\u001b[0mkwargs\u001b[0m\u001b[0;34m)\u001b[0m\u001b[0;34m\u001b[0m\u001b[0;34m\u001b[0m\u001b[0m\n\u001b[0m\u001b[1;32m     92\u001b[0m         \u001b[0mwrapper\u001b[0m\u001b[0;34m.\u001b[0m\u001b[0m_original_function\u001b[0m \u001b[0;34m=\u001b[0m \u001b[0mfunc\u001b[0m\u001b[0;34m\u001b[0m\u001b[0;34m\u001b[0m\u001b[0m\n\u001b[1;32m     93\u001b[0m         \u001b[0;32mreturn\u001b[0m \u001b[0mwrapper\u001b[0m\u001b[0;34m\u001b[0m\u001b[0;34m\u001b[0m\u001b[0m\n",
            "\u001b[0;32m/usr/local/lib/python3.6/dist-packages/keras/engine/training.py\u001b[0m in \u001b[0;36mfit_generator\u001b[0;34m(self, generator, steps_per_epoch, epochs, verbose, callbacks, validation_data, validation_steps, validation_freq, class_weight, max_queue_size, workers, use_multiprocessing, shuffle, initial_epoch)\u001b[0m\n\u001b[1;32m   1730\u001b[0m             \u001b[0muse_multiprocessing\u001b[0m\u001b[0;34m=\u001b[0m\u001b[0muse_multiprocessing\u001b[0m\u001b[0;34m,\u001b[0m\u001b[0;34m\u001b[0m\u001b[0;34m\u001b[0m\u001b[0m\n\u001b[1;32m   1731\u001b[0m             \u001b[0mshuffle\u001b[0m\u001b[0;34m=\u001b[0m\u001b[0mshuffle\u001b[0m\u001b[0;34m,\u001b[0m\u001b[0;34m\u001b[0m\u001b[0;34m\u001b[0m\u001b[0m\n\u001b[0;32m-> 1732\u001b[0;31m             initial_epoch=initial_epoch)\n\u001b[0m\u001b[1;32m   1733\u001b[0m \u001b[0;34m\u001b[0m\u001b[0m\n\u001b[1;32m   1734\u001b[0m     \u001b[0;34m@\u001b[0m\u001b[0minterfaces\u001b[0m\u001b[0;34m.\u001b[0m\u001b[0mlegacy_generator_methods_support\u001b[0m\u001b[0;34m\u001b[0m\u001b[0;34m\u001b[0m\u001b[0m\n",
            "\u001b[0;32m/usr/local/lib/python3.6/dist-packages/keras/engine/training_generator.py\u001b[0m in \u001b[0;36mfit_generator\u001b[0;34m(model, generator, steps_per_epoch, epochs, verbose, callbacks, validation_data, validation_steps, validation_freq, class_weight, max_queue_size, workers, use_multiprocessing, shuffle, initial_epoch)\u001b[0m\n\u001b[1;32m    240\u001b[0m                             \u001b[0mvalidation_steps\u001b[0m\u001b[0;34m,\u001b[0m\u001b[0;34m\u001b[0m\u001b[0;34m\u001b[0m\u001b[0m\n\u001b[1;32m    241\u001b[0m                             \u001b[0mcallbacks\u001b[0m\u001b[0;34m=\u001b[0m\u001b[0mcallbacks\u001b[0m\u001b[0;34m,\u001b[0m\u001b[0;34m\u001b[0m\u001b[0;34m\u001b[0m\u001b[0m\n\u001b[0;32m--> 242\u001b[0;31m                             workers=0)\n\u001b[0m\u001b[1;32m    243\u001b[0m                     \u001b[0;32melse\u001b[0m\u001b[0;34m:\u001b[0m\u001b[0;34m\u001b[0m\u001b[0;34m\u001b[0m\u001b[0m\n\u001b[1;32m    244\u001b[0m                         \u001b[0;31m# No need for try/except because\u001b[0m\u001b[0;34m\u001b[0m\u001b[0;34m\u001b[0m\u001b[0;34m\u001b[0m\u001b[0m\n",
            "\u001b[0;32m/usr/local/lib/python3.6/dist-packages/keras/legacy/interfaces.py\u001b[0m in \u001b[0;36mwrapper\u001b[0;34m(*args, **kwargs)\u001b[0m\n\u001b[1;32m     89\u001b[0m                 warnings.warn('Update your `' + object_name + '` call to the ' +\n\u001b[1;32m     90\u001b[0m                               'Keras 2 API: ' + signature, stacklevel=2)\n\u001b[0;32m---> 91\u001b[0;31m             \u001b[0;32mreturn\u001b[0m \u001b[0mfunc\u001b[0m\u001b[0;34m(\u001b[0m\u001b[0;34m*\u001b[0m\u001b[0margs\u001b[0m\u001b[0;34m,\u001b[0m \u001b[0;34m**\u001b[0m\u001b[0mkwargs\u001b[0m\u001b[0;34m)\u001b[0m\u001b[0;34m\u001b[0m\u001b[0;34m\u001b[0m\u001b[0m\n\u001b[0m\u001b[1;32m     92\u001b[0m         \u001b[0mwrapper\u001b[0m\u001b[0;34m.\u001b[0m\u001b[0m_original_function\u001b[0m \u001b[0;34m=\u001b[0m \u001b[0mfunc\u001b[0m\u001b[0;34m\u001b[0m\u001b[0;34m\u001b[0m\u001b[0m\n\u001b[1;32m     93\u001b[0m         \u001b[0;32mreturn\u001b[0m \u001b[0mwrapper\u001b[0m\u001b[0;34m\u001b[0m\u001b[0;34m\u001b[0m\u001b[0m\n",
            "\u001b[0;32m/usr/local/lib/python3.6/dist-packages/keras/engine/training.py\u001b[0m in \u001b[0;36mevaluate_generator\u001b[0;34m(self, generator, steps, callbacks, max_queue_size, workers, use_multiprocessing, verbose)\u001b[0m\n\u001b[1;32m   1789\u001b[0m             \u001b[0mworkers\u001b[0m\u001b[0;34m=\u001b[0m\u001b[0mworkers\u001b[0m\u001b[0;34m,\u001b[0m\u001b[0;34m\u001b[0m\u001b[0;34m\u001b[0m\u001b[0m\n\u001b[1;32m   1790\u001b[0m             \u001b[0muse_multiprocessing\u001b[0m\u001b[0;34m=\u001b[0m\u001b[0muse_multiprocessing\u001b[0m\u001b[0;34m,\u001b[0m\u001b[0;34m\u001b[0m\u001b[0;34m\u001b[0m\u001b[0m\n\u001b[0;32m-> 1791\u001b[0;31m             verbose=verbose)\n\u001b[0m\u001b[1;32m   1792\u001b[0m \u001b[0;34m\u001b[0m\u001b[0m\n\u001b[1;32m   1793\u001b[0m     \u001b[0;34m@\u001b[0m\u001b[0minterfaces\u001b[0m\u001b[0;34m.\u001b[0m\u001b[0mlegacy_generator_methods_support\u001b[0m\u001b[0;34m\u001b[0m\u001b[0;34m\u001b[0m\u001b[0m\n",
            "\u001b[0;32m/usr/local/lib/python3.6/dist-packages/keras/engine/training_generator.py\u001b[0m in \u001b[0;36mevaluate_generator\u001b[0;34m(model, generator, steps, callbacks, max_queue_size, workers, use_multiprocessing, verbose)\u001b[0m\n\u001b[1;32m    363\u001b[0m \u001b[0;34m\u001b[0m\u001b[0m\n\u001b[1;32m    364\u001b[0m         \u001b[0;32mwhile\u001b[0m \u001b[0msteps_done\u001b[0m \u001b[0;34m<\u001b[0m \u001b[0msteps\u001b[0m\u001b[0;34m:\u001b[0m\u001b[0;34m\u001b[0m\u001b[0;34m\u001b[0m\u001b[0m\n\u001b[0;32m--> 365\u001b[0;31m             \u001b[0mgenerator_output\u001b[0m \u001b[0;34m=\u001b[0m \u001b[0mnext\u001b[0m\u001b[0;34m(\u001b[0m\u001b[0moutput_generator\u001b[0m\u001b[0;34m)\u001b[0m\u001b[0;34m\u001b[0m\u001b[0;34m\u001b[0m\u001b[0m\n\u001b[0m\u001b[1;32m    366\u001b[0m             \u001b[0;32mif\u001b[0m \u001b[0;32mnot\u001b[0m \u001b[0mhasattr\u001b[0m\u001b[0;34m(\u001b[0m\u001b[0mgenerator_output\u001b[0m\u001b[0;34m,\u001b[0m \u001b[0;34m'__len__'\u001b[0m\u001b[0;34m)\u001b[0m\u001b[0;34m:\u001b[0m\u001b[0;34m\u001b[0m\u001b[0;34m\u001b[0m\u001b[0m\n\u001b[1;32m    367\u001b[0m                 raise ValueError('Output of generator should be a tuple '\n",
            "\u001b[0;32m/usr/local/lib/python3.6/dist-packages/keras/utils/data_utils.py\u001b[0m in \u001b[0;36mget\u001b[0;34m(self)\u001b[0m\n\u001b[1;32m    709\u001b[0m                 \u001b[0;32mtry\u001b[0m\u001b[0;34m:\u001b[0m\u001b[0;34m\u001b[0m\u001b[0;34m\u001b[0m\u001b[0m\n\u001b[1;32m    710\u001b[0m                     \u001b[0mfuture\u001b[0m \u001b[0;34m=\u001b[0m \u001b[0mself\u001b[0m\u001b[0;34m.\u001b[0m\u001b[0mqueue\u001b[0m\u001b[0;34m.\u001b[0m\u001b[0mget\u001b[0m\u001b[0;34m(\u001b[0m\u001b[0mblock\u001b[0m\u001b[0;34m=\u001b[0m\u001b[0;32mTrue\u001b[0m\u001b[0;34m)\u001b[0m\u001b[0;34m\u001b[0m\u001b[0;34m\u001b[0m\u001b[0m\n\u001b[0;32m--> 711\u001b[0;31m                     \u001b[0minputs\u001b[0m \u001b[0;34m=\u001b[0m \u001b[0mfuture\u001b[0m\u001b[0;34m.\u001b[0m\u001b[0mget\u001b[0m\u001b[0;34m(\u001b[0m\u001b[0mtimeout\u001b[0m\u001b[0;34m=\u001b[0m\u001b[0;36m30\u001b[0m\u001b[0;34m)\u001b[0m\u001b[0;34m\u001b[0m\u001b[0;34m\u001b[0m\u001b[0m\n\u001b[0m\u001b[1;32m    712\u001b[0m                     \u001b[0mself\u001b[0m\u001b[0;34m.\u001b[0m\u001b[0mqueue\u001b[0m\u001b[0;34m.\u001b[0m\u001b[0mtask_done\u001b[0m\u001b[0;34m(\u001b[0m\u001b[0;34m)\u001b[0m\u001b[0;34m\u001b[0m\u001b[0;34m\u001b[0m\u001b[0m\n\u001b[1;32m    713\u001b[0m                 \u001b[0;32mexcept\u001b[0m \u001b[0mmp\u001b[0m\u001b[0;34m.\u001b[0m\u001b[0mTimeoutError\u001b[0m\u001b[0;34m:\u001b[0m\u001b[0;34m\u001b[0m\u001b[0;34m\u001b[0m\u001b[0m\n",
            "\u001b[0;32m/usr/lib/python3.6/multiprocessing/pool.py\u001b[0m in \u001b[0;36mget\u001b[0;34m(self, timeout)\u001b[0m\n\u001b[1;32m    636\u001b[0m \u001b[0;34m\u001b[0m\u001b[0m\n\u001b[1;32m    637\u001b[0m     \u001b[0;32mdef\u001b[0m \u001b[0mget\u001b[0m\u001b[0;34m(\u001b[0m\u001b[0mself\u001b[0m\u001b[0;34m,\u001b[0m \u001b[0mtimeout\u001b[0m\u001b[0;34m=\u001b[0m\u001b[0;32mNone\u001b[0m\u001b[0;34m)\u001b[0m\u001b[0;34m:\u001b[0m\u001b[0;34m\u001b[0m\u001b[0;34m\u001b[0m\u001b[0m\n\u001b[0;32m--> 638\u001b[0;31m         \u001b[0mself\u001b[0m\u001b[0;34m.\u001b[0m\u001b[0mwait\u001b[0m\u001b[0;34m(\u001b[0m\u001b[0mtimeout\u001b[0m\u001b[0;34m)\u001b[0m\u001b[0;34m\u001b[0m\u001b[0;34m\u001b[0m\u001b[0m\n\u001b[0m\u001b[1;32m    639\u001b[0m         \u001b[0;32mif\u001b[0m \u001b[0;32mnot\u001b[0m \u001b[0mself\u001b[0m\u001b[0;34m.\u001b[0m\u001b[0mready\u001b[0m\u001b[0;34m(\u001b[0m\u001b[0;34m)\u001b[0m\u001b[0;34m:\u001b[0m\u001b[0;34m\u001b[0m\u001b[0;34m\u001b[0m\u001b[0m\n\u001b[1;32m    640\u001b[0m             \u001b[0;32mraise\u001b[0m \u001b[0mTimeoutError\u001b[0m\u001b[0;34m\u001b[0m\u001b[0;34m\u001b[0m\u001b[0m\n",
            "\u001b[0;32m/usr/lib/python3.6/multiprocessing/pool.py\u001b[0m in \u001b[0;36mwait\u001b[0;34m(self, timeout)\u001b[0m\n\u001b[1;32m    633\u001b[0m \u001b[0;34m\u001b[0m\u001b[0m\n\u001b[1;32m    634\u001b[0m     \u001b[0;32mdef\u001b[0m \u001b[0mwait\u001b[0m\u001b[0;34m(\u001b[0m\u001b[0mself\u001b[0m\u001b[0;34m,\u001b[0m \u001b[0mtimeout\u001b[0m\u001b[0;34m=\u001b[0m\u001b[0;32mNone\u001b[0m\u001b[0;34m)\u001b[0m\u001b[0;34m:\u001b[0m\u001b[0;34m\u001b[0m\u001b[0;34m\u001b[0m\u001b[0m\n\u001b[0;32m--> 635\u001b[0;31m         \u001b[0mself\u001b[0m\u001b[0;34m.\u001b[0m\u001b[0m_event\u001b[0m\u001b[0;34m.\u001b[0m\u001b[0mwait\u001b[0m\u001b[0;34m(\u001b[0m\u001b[0mtimeout\u001b[0m\u001b[0;34m)\u001b[0m\u001b[0;34m\u001b[0m\u001b[0;34m\u001b[0m\u001b[0m\n\u001b[0m\u001b[1;32m    636\u001b[0m \u001b[0;34m\u001b[0m\u001b[0m\n\u001b[1;32m    637\u001b[0m     \u001b[0;32mdef\u001b[0m \u001b[0mget\u001b[0m\u001b[0;34m(\u001b[0m\u001b[0mself\u001b[0m\u001b[0;34m,\u001b[0m \u001b[0mtimeout\u001b[0m\u001b[0;34m=\u001b[0m\u001b[0;32mNone\u001b[0m\u001b[0;34m)\u001b[0m\u001b[0;34m:\u001b[0m\u001b[0;34m\u001b[0m\u001b[0;34m\u001b[0m\u001b[0m\n",
            "\u001b[0;32m/usr/lib/python3.6/threading.py\u001b[0m in \u001b[0;36mwait\u001b[0;34m(self, timeout)\u001b[0m\n\u001b[1;32m    549\u001b[0m             \u001b[0msignaled\u001b[0m \u001b[0;34m=\u001b[0m \u001b[0mself\u001b[0m\u001b[0;34m.\u001b[0m\u001b[0m_flag\u001b[0m\u001b[0;34m\u001b[0m\u001b[0;34m\u001b[0m\u001b[0m\n\u001b[1;32m    550\u001b[0m             \u001b[0;32mif\u001b[0m \u001b[0;32mnot\u001b[0m \u001b[0msignaled\u001b[0m\u001b[0;34m:\u001b[0m\u001b[0;34m\u001b[0m\u001b[0;34m\u001b[0m\u001b[0m\n\u001b[0;32m--> 551\u001b[0;31m                 \u001b[0msignaled\u001b[0m \u001b[0;34m=\u001b[0m \u001b[0mself\u001b[0m\u001b[0;34m.\u001b[0m\u001b[0m_cond\u001b[0m\u001b[0;34m.\u001b[0m\u001b[0mwait\u001b[0m\u001b[0;34m(\u001b[0m\u001b[0mtimeout\u001b[0m\u001b[0;34m)\u001b[0m\u001b[0;34m\u001b[0m\u001b[0;34m\u001b[0m\u001b[0m\n\u001b[0m\u001b[1;32m    552\u001b[0m             \u001b[0;32mreturn\u001b[0m \u001b[0msignaled\u001b[0m\u001b[0;34m\u001b[0m\u001b[0;34m\u001b[0m\u001b[0m\n\u001b[1;32m    553\u001b[0m \u001b[0;34m\u001b[0m\u001b[0m\n",
            "\u001b[0;32m/usr/lib/python3.6/threading.py\u001b[0m in \u001b[0;36mwait\u001b[0;34m(self, timeout)\u001b[0m\n\u001b[1;32m    297\u001b[0m             \u001b[0;32melse\u001b[0m\u001b[0;34m:\u001b[0m\u001b[0;34m\u001b[0m\u001b[0;34m\u001b[0m\u001b[0m\n\u001b[1;32m    298\u001b[0m                 \u001b[0;32mif\u001b[0m \u001b[0mtimeout\u001b[0m \u001b[0;34m>\u001b[0m \u001b[0;36m0\u001b[0m\u001b[0;34m:\u001b[0m\u001b[0;34m\u001b[0m\u001b[0;34m\u001b[0m\u001b[0m\n\u001b[0;32m--> 299\u001b[0;31m                     \u001b[0mgotit\u001b[0m \u001b[0;34m=\u001b[0m \u001b[0mwaiter\u001b[0m\u001b[0;34m.\u001b[0m\u001b[0macquire\u001b[0m\u001b[0;34m(\u001b[0m\u001b[0;32mTrue\u001b[0m\u001b[0;34m,\u001b[0m \u001b[0mtimeout\u001b[0m\u001b[0;34m)\u001b[0m\u001b[0;34m\u001b[0m\u001b[0;34m\u001b[0m\u001b[0m\n\u001b[0m\u001b[1;32m    300\u001b[0m                 \u001b[0;32melse\u001b[0m\u001b[0;34m:\u001b[0m\u001b[0;34m\u001b[0m\u001b[0;34m\u001b[0m\u001b[0m\n\u001b[1;32m    301\u001b[0m                     \u001b[0mgotit\u001b[0m \u001b[0;34m=\u001b[0m \u001b[0mwaiter\u001b[0m\u001b[0;34m.\u001b[0m\u001b[0macquire\u001b[0m\u001b[0;34m(\u001b[0m\u001b[0;32mFalse\u001b[0m\u001b[0;34m)\u001b[0m\u001b[0;34m\u001b[0m\u001b[0;34m\u001b[0m\u001b[0m\n",
            "\u001b[0;31mKeyboardInterrupt\u001b[0m: "
          ]
        }
      ]
    },
    {
      "cell_type": "code",
      "metadata": {
        "id": "mV0ZW8vwtV3g",
        "colab_type": "code",
        "colab": {}
      },
      "source": [
        "!cp -r /content/drive/My\\ Drive/comma_ai_speedchallenge/speedchallenge /content/"
      ],
      "execution_count": 0,
      "outputs": []
    },
    {
      "cell_type": "code",
      "metadata": {
        "id": "byYD4QYfNExV",
        "colab_type": "code",
        "outputId": "0a6ba10d-191b-4ee9-f885-a1780d5d5e85",
        "colab": {
          "base_uri": "https://localhost:8080/",
          "height": 34
        }
      },
      "source": [
        "model1.predict(torch.tensor(to_save).unsqueeze(0))"
      ],
      "execution_count": 0,
      "outputs": [
        {
          "output_type": "execute_result",
          "data": {
            "text/plain": [
              "array([[21.310968]], dtype=float32)"
            ]
          },
          "metadata": {
            "tags": []
          },
          "execution_count": 152
        }
      ]
    },
    {
      "cell_type": "code",
      "metadata": {
        "id": "DU6VTYKUNzdJ",
        "colab_type": "code",
        "outputId": "7964bee3-bfe7-40a3-8488-415e73fb2e9f",
        "colab": {
          "base_uri": "https://localhost:8080/",
          "height": 102
        }
      },
      "source": [
        "val_data.iloc(0)[13]"
      ],
      "execution_count": 0,
      "outputs": [
        {
          "output_type": "execute_result",
          "data": {
            "text/plain": [
              "index                                              503\n",
              "image_path     speedchallenge/data/trainFrames/503.jpg\n",
              "image_index                                        503\n",
              "speed                                          16.5201\n",
              "Name: 0, dtype: object"
            ]
          },
          "metadata": {
            "tags": []
          },
          "execution_count": 148
        }
      ]
    },
    {
      "cell_type": "code",
      "metadata": {
        "id": "fjParPLeOv94",
        "colab_type": "code",
        "colab": {}
      },
      "source": [
        "model1.save(drive_location+\"/speedchallenge/data/model.h5\")"
      ],
      "execution_count": 0,
      "outputs": []
    },
    {
      "cell_type": "code",
      "metadata": {
        "id": "5J8jNWDlP-UR",
        "colab_type": "code",
        "colab": {}
      },
      "source": [
        ""
      ],
      "execution_count": 0,
      "outputs": []
    },
    {
      "cell_type": "code",
      "metadata": {
        "id": "bYl7BnEyQd5M",
        "colab_type": "code",
        "outputId": "516aa8f1-1ffc-4d05-d10d-aa2c883765f7",
        "colab": {
          "base_uri": "https://localhost:8080/",
          "height": 34
        }
      },
      "source": [
        ""
      ],
      "execution_count": 0,
      "outputs": [
        {
          "output_type": "execute_result",
          "data": {
            "text/plain": [
              "array([[21.310968]], dtype=float32)"
            ]
          },
          "metadata": {
            "tags": []
          },
          "execution_count": 153
        }
      ]
    }
  ]
}